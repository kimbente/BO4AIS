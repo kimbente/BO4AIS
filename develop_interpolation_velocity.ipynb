{
 "cells": [
  {
   "cell_type": "code",
   "execution_count": null,
   "id": "bff2ecb7",
   "metadata": {},
   "outputs": [],
   "source": [
    "import torch\n",
    "import pandas as pd\n",
    "import matplotlib.pyplot as plt\n",
    "\n",
    "# Use bo4ais library\n",
    "from botorch.models import SingleTaskGP\n",
    "from botorch.models.transforms import Normalize\n",
    "from botorch.fit import fit_gpytorch_mll\n",
    "from gpytorch.mlls import ExactMarginalLogLikelihood\n",
    "\n",
    "from utils import ps_to_speed, norm_to_ps"
   ]
  },
  {
   "cell_type": "code",
   "execution_count": null,
   "id": "d9ac1994",
   "metadata": {},
   "outputs": [],
   "source": [
    "speed_grid = torch.load(\"data/ice_speed_grid_casey_YX.pt\", weights_only = False)\n",
    "\n",
    "in_example = torch.tensor(\n",
    "    [\n",
    "    [1304900., -209150.],\n",
    "    [1315700., -215000.],\n",
    "    [2200400., -1100150.]\n",
    "    ], dtype = torch.float32\n",
    ")\n",
    "\n",
    "interpolation_input = ps_to_speed(in_example)\n",
    "\n",
    "torch.nn.functional.grid_sample(\n",
    "    # the source (regular) grid is the input\n",
    "    # [N, C, H, W]\n",
    "    input = speed_grid[-1, :, :].unsqueeze(0).unsqueeze(0),\n",
    "    # the target (irregular) grid (points) is the query\n",
    "    # [N, q (H), W, 2] q number of queries\n",
    "    grid = interpolation_input.unsqueeze(0).unsqueeze(2), \n",
    "    mode = 'bilinear', \n",
    "    align_corners = True)\n",
    "\n",
    "# 1.506\n",
    "# 1.643\n",
    "# 99.72"
   ]
  }
 ],
 "metadata": {
  "language_info": {
   "name": "python"
  }
 },
 "nbformat": 4,
 "nbformat_minor": 5
}
