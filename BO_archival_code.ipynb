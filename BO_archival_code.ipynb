{
 "cells": [
  {
   "cell_type": "code",
   "execution_count": null,
   "id": "f9bea7f0",
   "metadata": {},
   "outputs": [],
   "source": [
    "from botorch.acquisition import LogExpectedImprovement\n",
    "\n",
    "# For Batch BO\n",
    "# We are maximising this\n",
    "logNEI = LogExpectedImprovement(\n",
    "    model = gp, \n",
    "    best_f = ice_reduced[:, 2].unsqueeze(-1).max())\n",
    "    \n",
    "acq_values_logNEI = logNEI(X_candidates)\n",
    "\n",
    "acq_values_logNEI_2d = acq_values_logNEI.reshape(N_side, N_side).detach().numpy()\n",
    "\n",
    "plt.figure(figsize = (6, 5))\n",
    "plt.pcolormesh(side, side, acq_values_logNEI_2d, shading = 'auto', cmap = 'viridis')\n",
    "plt.colorbar(label = \"Log Expected Improvement\")\n",
    "plt.xlabel(\"x\")\n",
    "plt.ylabel(\"y\")\n",
    "plt.title(\"Acquisition Function Surface\")\n",
    "plt.show()"
   ]
  },
  {
   "cell_type": "code",
   "execution_count": null,
   "id": "d0632e5a",
   "metadata": {},
   "outputs": [],
   "source": [
    "# replaced the general downsampling scheme\n",
    "REDUCE_RATE = 1000\n",
    "# subsample points\n",
    "ice_reduced = ice[::REDUCE_RATE]\n",
    "# run with reduced version first\n",
    "print(ice_reduced.shape)"
   ]
  },
  {
   "cell_type": "code",
   "execution_count": null,
   "id": "0e005a6b",
   "metadata": {},
   "outputs": [],
   "source": [
    "fig, ax = plt.subplots(figsize = (10, 10))\n",
    "\n",
    "REDUCE_RATE = 100\n",
    "\n",
    "ax.scatter(\n",
    "    ice[:, 0][::REDUCE_RATE], \n",
    "    ice[:, 1][::REDUCE_RATE], \n",
    "    c = ice[:, 2][::REDUCE_RATE], \n",
    "    s = 1.5, alpha = 0.8, cmap = 'viridis')\n",
    "\n",
    "# Optional: label axes to clarify units\n",
    "ax.set_xlabel(\"x\")\n",
    "ax.set_ylabel(\"y\")\n",
    "\n",
    "ax.set_aspect('equal')\n",
    "ax.grid(True, alpha = 0.5)  # Show gridlines"
   ]
  }
 ],
 "metadata": {
  "language_info": {
   "name": "python"
  }
 },
 "nbformat": 4,
 "nbformat_minor": 5
}
